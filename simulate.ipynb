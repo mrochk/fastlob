{
 "cells": [
  {
   "cell_type": "code",
   "execution_count": 1,
   "id": "eadfbd02",
   "metadata": {},
   "outputs": [],
   "source": [
    "from scipy import stats\n",
    "import random\n",
    "import time\n",
    "import matplotlib.pyplot as plt\n",
    "import pylob as lob\n",
    "from IPython.display import clear_output"
   ]
  },
  {
   "cell_type": "code",
   "execution_count": 2,
   "id": "68e566bb",
   "metadata": {},
   "outputs": [],
   "source": [
    "def generate_orders(n: int):\n",
    "    result = list()\n",
    "    \n",
    "    for _ in range(n):\n",
    "    \n",
    "        midprice = 110_000\n",
    "    \n",
    "        n_ask_limits = stats.poisson.rvs(1000)\n",
    "        n_bid_limits = stats.poisson.rvs(1000)\n",
    "    \n",
    "        ask_limits_price = stats.expon.rvs(loc=midprice, scale=1, size=n_ask_limits)\n",
    "        bid_limits_price = -stats.expon.rvs(loc=midprice, scale=1, size=n_bid_limits) + 2*midprice\n",
    "    \n",
    "        ask_limits_quantities = stats.uniform.rvs(loc=1, scale=100, size=n_ask_limits)\n",
    "        bid_limits_quantities = stats.uniform.rvs(loc=1, scale=100, size=n_bid_limits)\n",
    "    \n",
    "        ask_limits_params = [lob.OrderParams(lob.OrderSide.ASK, p, q) for (p, q) in zip(ask_limits_price, ask_limits_quantities)]\n",
    "        bid_limits_params = [lob.OrderParams(lob.OrderSide.BID, p, q) for (p, q) in zip(bid_limits_price, bid_limits_quantities)]\n",
    "    \n",
    "        n_markets = stats.poisson.rvs(100)\n",
    "    \n",
    "        markets_price = stats.norm.rvs(loc=midprice, scale=2, size=n_markets)\n",
    "        markets_quantities = stats.uniform.rvs(loc=1, scale=100, size=n_markets)\n",
    "        markets_bid_or_ask = [random.choice((lob.OrderSide.BID, lob.OrderSide.ASK)) for _ in range(n_markets)]\n",
    "    \n",
    "        markets_params = [lob.OrderParams(s, p, q) for (s, p, q) in zip(markets_bid_or_ask, markets_price, markets_quantities)]\n",
    "    \n",
    "        orders = ask_limits_params + bid_limits_params + markets_params\n",
    "        random.shuffle(orders)\n",
    "        \n",
    "        result.append(orders)\n",
    "        \n",
    "    return result"
   ]
  },
  {
   "cell_type": "code",
   "execution_count": 3,
   "id": "3a672864",
   "metadata": {},
   "outputs": [],
   "source": [
    "def simulate(orders):\n",
    "    ob = lob.OrderBook('Simulation')\n",
    "\n",
    "    for o in orders:\n",
    "        ob.process_many(o)\n",
    "        print(ob.view())\n",
    "        time.sleep(0.7)\n",
    "        clear_output(wait=True)"
   ]
  },
  {
   "cell_type": "code",
   "execution_count": 4,
   "id": "561b31ef",
   "metadata": {},
   "outputs": [
    {
     "name": "stdout",
     "output_type": "stream",
     "text": [
      "   [ORDER-BOOK Simulation]\n",
      "\n",
      "\u001b[31m   ...(518 more asks)\n",
      " - 110000.09 | 098 | 04539.43 | 499337708.5487\n",
      " - 110000.08 | 109 | 05966.57 | 656323177.3256\n",
      " - 110000.07 | 109 | 05584.86 | 614334990.9402\n",
      " - 110000.06 | 112 | 05516.08 | 606769130.9648\n",
      " - 110000.05 | 101 | 04889.59 | 537855144.4795\n",
      " - 110000.04 | 094 | 04614.88 | 507636984.5952\n",
      " - 110000.03 | 046 | 02580.36 | 283839677.4108\n",
      " - 110000.02 | 005 | 00259.58 | 28553805.1916\n",
      " - 110000.01 | 001 | 00048.87 | 5375700.4887\n",
      " - 110000.00 | 002 | 00143.54 | 15789400.0000\n",
      "\u001b[0m ~~~~~~~~~~~~~~~~~~~~~~~~~~~~~~~~~~~~~~~~~~~~\n",
      "\u001b[32m - 109999.99 | 003 | 00188.59 | 20744898.1141\n",
      " - 109999.98 | 010 | 00471.38 | 51851790.5724\n",
      " - 109999.97 | 064 | 03428.32 | 377115097.1504\n",
      " - 109999.96 | 099 | 04945.73 | 544030102.1708\n",
      " - 109999.95 | 080 | 04455.09 | 490059677.2455\n",
      " - 109999.94 | 082 | 04279.75 | 470772243.2150\n",
      " - 109999.93 | 105 | 05322.80 | 585507627.4040\n",
      " - 109999.92 | 096 | 05406.31 | 594693667.4952\n",
      " - 109999.91 | 086 | 04290.32 | 471934813.8712\n",
      " - 109999.90 | 097 | 05001.78 | 550195299.8220\n",
      "   ...(514 more bids)\n",
      "\u001b[0m\u001b[34m\n",
      "    Spread = 0.01\u001b[0m\u001b[34m, Mid-price = 109999.995\u001b[0m\n"
     ]
    }
   ],
   "source": [
    "orders = generate_orders(10)\n",
    "simulate(orders)"
   ]
  }
 ],
 "metadata": {
  "kernelspec": {
   "display_name": "venv",
   "language": "python",
   "name": "venv"
  },
  "language_info": {
   "codemirror_mode": {
    "name": "ipython",
    "version": 3
   },
   "file_extension": ".py",
   "mimetype": "text/x-python",
   "name": "python",
   "nbconvert_exporter": "python",
   "pygments_lexer": "ipython3",
   "version": "3.12.3"
  }
 },
 "nbformat": 4,
 "nbformat_minor": 5
}
