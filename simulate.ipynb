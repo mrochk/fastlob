{
 "cells": [
  {
   "cell_type": "code",
   "execution_count": 1,
   "id": "eadfbd02",
   "metadata": {},
   "outputs": [],
   "source": [
    "from scipy import stats\n",
    "import random\n",
    "import time\n",
    "import matplotlib.pyplot as plt\n",
    "import pylob as lob\n",
    "from IPython.display import clear_output"
   ]
  },
  {
   "cell_type": "code",
   "execution_count": 2,
   "id": "68e566bb",
   "metadata": {},
   "outputs": [],
   "source": [
    "def generate_orders(n: int):\n",
    "    result = list()\n",
    "    \n",
    "    for _ in range(n):\n",
    "    \n",
    "        midprice = 110_000\n",
    "    \n",
    "        n_ask_limits = stats.poisson.rvs(1000)\n",
    "        n_bid_limits = stats.poisson.rvs(1000)\n",
    "    \n",
    "        ask_limits_price = stats.expon.rvs(loc=midprice, scale=1, size=n_ask_limits)\n",
    "        bid_limits_price = -stats.expon.rvs(loc=midprice, scale=1, size=n_bid_limits) + 2*midprice\n",
    "    \n",
    "        ask_limits_quantities = stats.uniform.rvs(loc=1, scale=100, size=n_ask_limits)\n",
    "        bid_limits_quantities = stats.uniform.rvs(loc=1, scale=100, size=n_bid_limits)\n",
    "    \n",
    "        ask_limits_params = [lob.OrderParams(lob.OrderSide.ASK, p, q) for (p, q) in zip(ask_limits_price, ask_limits_quantities)]\n",
    "        bid_limits_params = [lob.OrderParams(lob.OrderSide.BID, p, q) for (p, q) in zip(bid_limits_price, bid_limits_quantities)]\n",
    "    \n",
    "        n_markets = stats.poisson.rvs(100)\n",
    "    \n",
    "        markets_price = stats.norm.rvs(loc=midprice, scale=2, size=n_markets)\n",
    "        markets_quantities = stats.uniform.rvs(loc=1, scale=100, size=n_markets)\n",
    "        markets_bid_or_ask = [random.choice((lob.OrderSide.BID, lob.OrderSide.ASK)) for _ in range(n_markets)]\n",
    "    \n",
    "        markets_params = [lob.OrderParams(s, p, q) for (s, p, q) in zip(markets_bid_or_ask, markets_price, markets_quantities)]\n",
    "    \n",
    "        orders = ask_limits_params + bid_limits_params + markets_params\n",
    "        random.shuffle(orders)\n",
    "        \n",
    "        result.append(orders)\n",
    "        \n",
    "    return result"
   ]
  },
  {
   "cell_type": "code",
   "execution_count": 3,
   "id": "561b31ef",
   "metadata": {},
   "outputs": [],
   "source": [
    "orders = generate_orders(10)"
   ]
  },
  {
   "cell_type": "code",
   "execution_count": 4,
   "id": "3a672864",
   "metadata": {},
   "outputs": [
    {
     "name": "stdout",
     "output_type": "stream",
     "text": [
      "   [ORDER-BOOK Simulation]\n",
      "\n",
      "\u001b[31m   ...(506 more asks)\n",
      " - Limit(price=110000.11, orders=105, volume=5380.49)\n",
      " - Limit(price=110000.10, orders=108, volume=5219.07)\n",
      " - Limit(price=110000.09, orders=76, volume=3483.81)\n",
      " - Limit(price=110000.08, orders=87, volume=4807.89)\n",
      " - Limit(price=110000.07, orders=102, volume=4743.73)\n",
      " - Limit(price=110000.06, orders=93, volume=4529.02)\n",
      " - Limit(price=110000.05, orders=87, volume=4298.47)\n",
      " - Limit(price=110000.04, orders=112, volume=6126.11)\n",
      " - Limit(price=110000.03, orders=71, volume=3929.47)\n",
      " - Limit(price=110000.02, orders=4, volume=218.31)\n",
      "\u001b[0m ----------------------------------------------\n",
      "\u001b[32m - Limit(price=109999.99, orders=1, volume=82.93)\n",
      " - Limit(price=109999.98, orders=44, volume=2175.24)\n",
      " - Limit(price=109999.97, orders=80, volume=4260.45)\n",
      " - Limit(price=109999.96, orders=83, volume=4160.35)\n",
      " - Limit(price=109999.95, orders=85, volume=3932.94)\n",
      " - Limit(price=109999.94, orders=106, volume=5046.25)\n",
      " - Limit(price=109999.93, orders=107, volume=5971.24)\n",
      " - Limit(price=109999.92, orders=107, volume=5247.99)\n",
      " - Limit(price=109999.91, orders=90, volume=4238.61)\n",
      " - Limit(price=109999.90, orders=96, volume=4615.84)\n",
      "   ...(485 more bids)\n",
      "\u001b[0m\u001b[34m\n",
      "    Spread = 0.03\u001b[0m\u001b[34m, Mid-price = 110000.005\u001b[0m\n"
     ]
    }
   ],
   "source": [
    "ob = lob.OrderBook('Simulation')\n",
    "\n",
    "for o in orders:\n",
    "    ob.process_many(o)\n",
    "    print(ob)\n",
    "    time.sleep(0.7)\n",
    "    clear_output(wait=True)"
   ]
  }
 ],
 "metadata": {
  "kernelspec": {
   "display_name": "venv",
   "language": "python",
   "name": "venv"
  },
  "language_info": {
   "codemirror_mode": {
    "name": "ipython",
    "version": 3
   },
   "file_extension": ".py",
   "mimetype": "text/x-python",
   "name": "python",
   "nbconvert_exporter": "python",
   "pygments_lexer": "ipython3",
   "version": "3.12.3"
  }
 },
 "nbformat": 4,
 "nbformat_minor": 5
}
