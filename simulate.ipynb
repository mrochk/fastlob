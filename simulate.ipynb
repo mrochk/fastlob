{
 "cells": [
  {
   "cell_type": "code",
   "execution_count": 1,
   "id": "eadfbd02",
   "metadata": {},
   "outputs": [],
   "source": [
    "from scipy import stats\n",
    "import random\n",
    "import time\n",
    "import matplotlib.pyplot as plt\n",
    "import pylob as lob\n",
    "from IPython.display import clear_output"
   ]
  },
  {
   "cell_type": "code",
   "execution_count": 2,
   "id": "68e566bb",
   "metadata": {},
   "outputs": [],
   "source": [
    "def generate_orders(n: int):\n",
    "    result = list()\n",
    "    \n",
    "    for _ in range(n):\n",
    "    \n",
    "        midprice = 110_000\n",
    "    \n",
    "        n_ask_limits = stats.poisson.rvs(1000)\n",
    "        n_bid_limits = stats.poisson.rvs(1000)\n",
    "    \n",
    "        ask_limits_price = stats.expon.rvs(loc=midprice, scale=1, size=n_ask_limits)\n",
    "        bid_limits_price = -stats.expon.rvs(loc=midprice, scale=1, size=n_bid_limits) + 2*midprice\n",
    "    \n",
    "        ask_limits_quantities = stats.uniform.rvs(loc=1, scale=100, size=n_ask_limits)\n",
    "        bid_limits_quantities = stats.uniform.rvs(loc=1, scale=100, size=n_bid_limits)\n",
    "    \n",
    "        ask_limits_params = [lob.OrderParams(lob.OrderSide.ASK, p, q) for (p, q) in zip(ask_limits_price, ask_limits_quantities)]\n",
    "        bid_limits_params = [lob.OrderParams(lob.OrderSide.BID, p, q) for (p, q) in zip(bid_limits_price, bid_limits_quantities)]\n",
    "    \n",
    "        n_markets = stats.poisson.rvs(100)\n",
    "    \n",
    "        markets_price = stats.norm.rvs(loc=midprice, scale=2, size=n_markets)\n",
    "        markets_quantities = stats.uniform.rvs(loc=1, scale=100, size=n_markets)\n",
    "        markets_bid_or_ask = [random.choice((lob.OrderSide.BID, lob.OrderSide.ASK)) for _ in range(n_markets)]\n",
    "    \n",
    "        markets_params = [lob.OrderParams(s, p, q) for (s, p, q) in zip(markets_bid_or_ask, markets_price, markets_quantities)]\n",
    "    \n",
    "        orders = ask_limits_params + bid_limits_params + markets_params\n",
    "        random.shuffle(orders)\n",
    "        \n",
    "        result.append(orders)\n",
    "        \n",
    "    return result"
   ]
  },
  {
   "cell_type": "code",
   "execution_count": 3,
   "id": "3a672864",
   "metadata": {},
   "outputs": [],
   "source": [
    "def simulate(orders):\n",
    "    ob = lob.OrderBook('Simulation')\n",
    "\n",
    "    for o in orders:\n",
    "        ob.process_many(o)\n",
    "        print(ob.view())\n",
    "        time.sleep(0.7)\n",
    "        clear_output(wait=True)"
   ]
  },
  {
   "cell_type": "code",
   "execution_count": 4,
   "id": "561b31ef",
   "metadata": {},
   "outputs": [
    {
     "name": "stdout",
     "output_type": "stream",
     "text": [
      "   [ORDER-BOOK Simulation]\n",
      "\n",
      "\u001b[31m   ...(517 more asks)\n",
      " - 110000.11 | 084 | 0004261.37 | 468751168.7507\n",
      " - 110000.10 | 109 | 0005305.64 | 583620930.5640\n",
      " - 110000.09 | 091 | 0004393.66 | 483302995.4294\n",
      " - 110000.08 | 095 | 0004892.00 | 538120391.3600\n",
      " - 110000.07 | 078 | 0004037.02 | 444072482.5914\n",
      " - 110000.06 | 090 | 0004592.56 | 505181875.5536\n",
      " - 110000.05 | 091 | 0004699.50 | 516945234.9750\n",
      " - 110000.04 | 092 | 0004611.93 | 507312484.4772\n",
      " - 110000.03 | 046 | 0002170.72 | 238779265.1216\n",
      " - 110000.02 | 006 | 0000373.50 | 41085007.4700\n",
      "\u001b[0m -----------------------------------\n",
      "\u001b[32m - 109999.99 | 003 | 0000120.54 | 13259398.7946\n",
      " - 109999.98 | 015 | 0000661.11 | 72722086.7778\n",
      " - 109999.97 | 077 | 0004592.83 | 505211162.2151\n",
      " - 109999.96 | 102 | 0004885.07 | 537357504.5972\n",
      " - 109999.95 | 096 | 0005352.76 | 588803332.3620\n",
      " - 109999.94 | 081 | 0004007.95 | 440874259.5230\n",
      " - 109999.93 | 108 | 0005526.18 | 607879413.1674\n",
      " - 109999.92 | 083 | 0004408.00 | 484879647.3600\n",
      " - 109999.91 | 095 | 0004682.38 | 515061378.5858\n",
      " - 109999.90 | 104 | 0005401.61 | 594176559.8390\n",
      "   ...(513 more bids)\n",
      "\u001b[0m\u001b[34m\n",
      "    Spread = 0.03\u001b[0m\u001b[34m, Mid-price = 110000.005\u001b[0m\n"
     ]
    }
   ],
   "source": [
    "orders = generate_orders(10)\n",
    "simulate(orders)"
   ]
  }
 ],
 "metadata": {
  "kernelspec": {
   "display_name": "venv",
   "language": "python",
   "name": "venv"
  },
  "language_info": {
   "codemirror_mode": {
    "name": "ipython",
    "version": 3
   },
   "file_extension": ".py",
   "mimetype": "text/x-python",
   "name": "python",
   "nbconvert_exporter": "python",
   "pygments_lexer": "ipython3",
   "version": "3.12.3"
  }
 },
 "nbformat": 4,
 "nbformat_minor": 5
}
