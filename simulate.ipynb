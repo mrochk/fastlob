{
 "cells": [
  {
   "cell_type": "code",
   "execution_count": 11,
   "id": "eadfbd02",
   "metadata": {},
   "outputs": [],
   "source": [
    "from scipy import stats\n",
    "import random\n",
    "import time\n",
    "import matplotlib.pyplot as plt\n",
    "import pylob as lob\n",
    "from IPython.display import clear_output"
   ]
  },
  {
   "cell_type": "code",
   "execution_count": null,
   "id": "c7227e1f",
   "metadata": {},
   "outputs": [],
   "source": [
    "def generate_orders(n: int):\n",
    "    result = list()\n",
    "    \n",
    "    for _ in range(n):\n",
    "    \n",
    "        midprice = 110_000\n",
    "    \n",
    "        n_ask_limits = stats.poisson.rvs(1000)\n",
    "        n_bid_limits = stats.poisson.rvs(1000)\n",
    "    \n",
    "        ask_limits_price = stats.genpareto.rvs(-0.1, loc=midprice, scale=1000, size=n_ask_limits)\n",
    "        bid_limits_price = -stats.genpareto.rvs(-0.1, loc=midprice, scale=1000, size=n_bid_limits) + 2*midprice\n",
    "    \n",
    "        ask_limits_quantities = stats.uniform.rvs(loc=1, scale=1000, size=n_ask_limits)\n",
    "        bid_limits_quantities = stats.uniform.rvs(loc=1, scale=1000, size=n_bid_limits)\n",
    "    \n",
    "        ask_limits_params = [lob.OrderParams(lob.OrderSide.ASK, p, q) for (p, q) in zip(ask_limits_price, ask_limits_quantities)]\n",
    "        bid_limits_params = [lob.OrderParams(lob.OrderSide.BID, p, q) for (p, q) in zip(bid_limits_price, bid_limits_quantities)]\n",
    "    \n",
    "        n_markets = stats.poisson.rvs(50)\n",
    "    \n",
    "        markets_price = stats.norm.rvs(loc=midprice, scale=10, size=n_markets)\n",
    "        markets_quantities = stats.uniform.rvs(loc=1, scale=100, size=n_markets)\n",
    "        markets_bid_or_ask = [random.choice((lob.OrderSide.BID, lob.OrderSide.ASK)) for _ in range(n_markets)]\n",
    "    \n",
    "        markets_params = [lob.OrderParams(s, p, q) for (s, p, q) in zip(markets_bid_or_ask, markets_price, markets_quantities)]\n",
    "    \n",
    "        orders = ask_limits_params + bid_limits_params + markets_params\n",
    "        random.shuffle(orders)\n",
    "        \n",
    "        result.append(orders)\n",
    "        \n",
    "    return result"
   ]
  },
  {
   "cell_type": "code",
   "execution_count": 24,
   "id": "7b040fb5",
   "metadata": {},
   "outputs": [],
   "source": [
    "orders = generate_orders(100)"
   ]
  },
  {
   "cell_type": "code",
   "execution_count": 25,
   "id": "a1cd2af7",
   "metadata": {},
   "outputs": [
    {
     "name": "stdout",
     "output_type": "stream",
     "text": [
      "   [ORDER-BOOK Simulation]\n",
      "\n",
      "\u001b[31m   ...(97470 more asks)\n",
      " - Limit(price=110004.12, orders=1, volume=7.62)\n",
      " - Limit(price=110004.07, orders=2, volume=117.75)\n",
      " - Limit(price=110004.06, orders=2, volume=71.76)\n",
      " - Limit(price=110004.03, orders=1, volume=872.80)\n",
      " - Limit(price=110004.00, orders=1, volume=9.59)\n",
      " - Limit(price=110003.99, orders=1, volume=568.61)\n",
      " - Limit(price=110003.70, orders=1, volume=15.08)\n",
      " - Limit(price=110003.67, orders=1, volume=12.42)\n",
      " - Limit(price=110001.84, orders=1, volume=161.10)\n",
      " - Limit(price=109998.87, orders=1, volume=96.60)\n",
      "\u001b[0m ----------------------------------------------\n",
      "\u001b[32m - Limit(price=109997.31, orders=1, volume=94.40)\n",
      " - Limit(price=109997.02, orders=1, volume=70.26)\n",
      " - Limit(price=109996.97, orders=1, volume=70.64)\n",
      " - Limit(price=109996.69, orders=1, volume=90.34)\n",
      " - Limit(price=109996.53, orders=1, volume=62.94)\n",
      " - Limit(price=109996.42, orders=1, volume=20.50)\n",
      " - Limit(price=109996.39, orders=1, volume=86.29)\n",
      " - Limit(price=109996.25, orders=1, volume=92.89)\n",
      " - Limit(price=109996.20, orders=1, volume=575.72)\n",
      " - Limit(price=109996.14, orders=1, volume=2.94)\n",
      "   ...(97625 more bids)\n",
      "\u001b[0m\u001b[34m\n",
      "    Spread = 1.56\u001b[0m\u001b[34m, Mid-price = 109998.090\u001b[0m\n"
     ]
    }
   ],
   "source": [
    "ob = lob.OrderBook('Simulation')\n",
    "\n",
    "for o in orders:\n",
    "    ob.process_many(o)\n",
    "    print(ob)\n",
    "    time.sleep(0.7)\n",
    "    clear_output(wait=True)"
   ]
  }
 ],
 "metadata": {
  "kernelspec": {
   "display_name": "venv",
   "language": "python",
   "name": "venv"
  },
  "language_info": {
   "codemirror_mode": {
    "name": "ipython",
    "version": 3
   },
   "file_extension": ".py",
   "mimetype": "text/x-python",
   "name": "python",
   "nbconvert_exporter": "python",
   "pygments_lexer": "ipython3",
   "version": "3.12.3"
  }
 },
 "nbformat": 4,
 "nbformat_minor": 5
}
