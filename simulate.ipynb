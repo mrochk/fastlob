{
 "cells": [
  {
   "cell_type": "code",
   "execution_count": 5,
   "id": "eadfbd02",
   "metadata": {},
   "outputs": [],
   "source": [
    "from scipy import stats\n",
    "import random\n",
    "import time\n",
    "import matplotlib.pyplot as plt\n",
    "import pylob as lob\n",
    "from IPython.display import clear_output"
   ]
  },
  {
   "cell_type": "code",
   "execution_count": 6,
   "id": "68e566bb",
   "metadata": {},
   "outputs": [],
   "source": [
    "def generate_orders(n: int):\n",
    "    result = list()\n",
    "    \n",
    "    for _ in range(n):\n",
    "    \n",
    "        midprice = 110_000\n",
    "    \n",
    "        n_ask_limits = stats.poisson.rvs(1000)\n",
    "        n_bid_limits = stats.poisson.rvs(1000)\n",
    "    \n",
    "        ask_limits_price = stats.expon.rvs(loc=midprice, scale=1, size=n_ask_limits)\n",
    "        bid_limits_price = -stats.expon.rvs(loc=midprice, scale=1, size=n_bid_limits) + 2*midprice\n",
    "    \n",
    "        ask_limits_quantities = stats.uniform.rvs(loc=1, scale=100, size=n_ask_limits)\n",
    "        bid_limits_quantities = stats.uniform.rvs(loc=1, scale=100, size=n_bid_limits)\n",
    "    \n",
    "        ask_limits_params = [lob.OrderParams(lob.OrderSide.ASK, p, q) for (p, q) in zip(ask_limits_price, ask_limits_quantities)]\n",
    "        bid_limits_params = [lob.OrderParams(lob.OrderSide.BID, p, q) for (p, q) in zip(bid_limits_price, bid_limits_quantities)]\n",
    "    \n",
    "        n_markets = stats.poisson.rvs(100)\n",
    "    \n",
    "        markets_price = stats.norm.rvs(loc=midprice, scale=2, size=n_markets)\n",
    "        markets_quantities = stats.uniform.rvs(loc=1, scale=100, size=n_markets)\n",
    "        markets_bid_or_ask = [random.choice((lob.OrderSide.BID, lob.OrderSide.ASK)) for _ in range(n_markets)]\n",
    "    \n",
    "        markets_params = [lob.OrderParams(s, p, q) for (s, p, q) in zip(markets_bid_or_ask, markets_price, markets_quantities)]\n",
    "    \n",
    "        orders = ask_limits_params + bid_limits_params + markets_params\n",
    "        random.shuffle(orders)\n",
    "        \n",
    "        result.append(orders)\n",
    "        \n",
    "    return result"
   ]
  },
  {
   "cell_type": "code",
   "execution_count": 7,
   "id": "3a672864",
   "metadata": {},
   "outputs": [],
   "source": [
    "def simulate(orders):\n",
    "    ob = lob.OrderBook('Simulation')\n",
    "\n",
    "    for o in orders:\n",
    "        ob.process_many(o)\n",
    "        print(ob)\n",
    "        time.sleep(0.7)\n",
    "        clear_output(wait=True)"
   ]
  },
  {
   "cell_type": "code",
   "execution_count": 9,
   "id": "561b31ef",
   "metadata": {},
   "outputs": [
    {
     "name": "stdout",
     "output_type": "stream",
     "text": [
      "   [ORDER-BOOK Simulation]\n",
      "\n",
      "\u001b[31m   ...(742 more asks)\n",
      " - Limit(price=110000.10, orders=933, volume=46639.20)\n",
      " - Limit(price=110000.09, orders=912, volume=46165.53)\n",
      " - Limit(price=110000.08, orders=955, volume=49525.71)\n",
      " - Limit(price=110000.07, orders=987, volume=51234.17)\n",
      " - Limit(price=110000.06, orders=950, volume=48580.12)\n",
      " - Limit(price=110000.05, orders=927, volume=45898.55)\n",
      " - Limit(price=110000.04, orders=997, volume=51313.72)\n",
      " - Limit(price=110000.03, orders=744, volume=39331.81)\n",
      " - Limit(price=110000.02, orders=56, volume=2938.64)\n",
      " - Limit(price=110000.01, orders=6, volume=302.32)\n",
      "\u001b[0m ----------------------------------------------\n",
      "\u001b[32m - Limit(price=109999.98, orders=18, volume=1058.97)\n",
      " - Limit(price=109999.97, orders=960, volume=49118.71)\n",
      " - Limit(price=109999.96, orders=1034, volume=54396.39)\n",
      " - Limit(price=109999.95, orders=947, volume=49699.76)\n",
      " - Limit(price=109999.94, orders=988, volume=51463.21)\n",
      " - Limit(price=109999.93, orders=983, volume=51516.19)\n",
      " - Limit(price=109999.92, orders=925, volume=47357.42)\n",
      " - Limit(price=109999.91, orders=982, volume=49139.68)\n",
      " - Limit(price=109999.90, orders=915, volume=47582.15)\n",
      " - Limit(price=109999.89, orders=898, volume=46265.79)\n",
      "   ...(733 more bids)\n",
      "\u001b[0m\u001b[34m\n",
      "    Spread = 0.03\u001b[0m\u001b[34m, Mid-price = 109999.995\u001b[0m\n"
     ]
    }
   ],
   "source": [
    "orders = generate_orders(100)\n",
    "simulate(orders)"
   ]
  }
 ],
 "metadata": {
  "kernelspec": {
   "display_name": "venv",
   "language": "python",
   "name": "venv"
  },
  "language_info": {
   "codemirror_mode": {
    "name": "ipython",
    "version": 3
   },
   "file_extension": ".py",
   "mimetype": "text/x-python",
   "name": "python",
   "nbconvert_exporter": "python",
   "pygments_lexer": "ipython3",
   "version": "3.12.3"
  }
 },
 "nbformat": 4,
 "nbformat_minor": 5
}
