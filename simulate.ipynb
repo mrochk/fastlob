{
 "cells": [
  {
   "cell_type": "code",
   "execution_count": 1,
   "id": "eadfbd02",
   "metadata": {},
   "outputs": [],
   "source": [
    "import random\n",
    "import time\n",
    "import matplotlib.pyplot as plt\n",
    "from scipy import stats\n",
    "from IPython.display import clear_output\n",
    "\n",
    "import fastlob as lob"
   ]
  },
  {
   "cell_type": "code",
   "execution_count": 2,
   "id": "68e566bb",
   "metadata": {},
   "outputs": [],
   "source": [
    "def generate_orders(T: int, midprice: float):\n",
    "    result = list()\n",
    "    \n",
    "    for _ in range(T):\n",
    "    \n",
    "        n_ask_limits = stats.poisson.rvs(500)\n",
    "        n_bid_limits = stats.poisson.rvs(500)\n",
    "    \n",
    "        ask_limits_price = stats.expon.rvs(loc=midprice, scale=1, size=n_ask_limits)\n",
    "        bid_limits_price = -stats.expon.rvs(loc=midprice, scale=1, size=n_bid_limits) + 2*midprice\n",
    "    \n",
    "        ask_limits_quantities = stats.uniform.rvs(loc=1, scale=100, size=n_ask_limits)\n",
    "        bid_limits_quantities = stats.uniform.rvs(loc=1, scale=100, size=n_bid_limits)\n",
    "    \n",
    "        ask_limits_params = [lob.OrderParams(lob.OrderSide.ASK, p, q) for (p, q) in zip(ask_limits_price, ask_limits_quantities)]\n",
    "        bid_limits_params = [lob.OrderParams(lob.OrderSide.BID, p, q) for (p, q) in zip(bid_limits_price, bid_limits_quantities)]\n",
    "    \n",
    "        n_markets = stats.poisson.rvs(100)\n",
    "    \n",
    "        markets_price = stats.norm.rvs(loc=midprice, scale=2, size=n_markets)\n",
    "        markets_quantities = stats.uniform.rvs(loc=1, scale=100, size=n_markets)\n",
    "        markets_bid_or_ask = [random.choice((lob.OrderSide.BID, lob.OrderSide.ASK)) for _ in range(n_markets)]\n",
    "    \n",
    "        markets_params = [lob.OrderParams(s, p, q) for (s, p, q) in zip(markets_bid_or_ask, markets_price, markets_quantities)]\n",
    "    \n",
    "        orders = ask_limits_params + bid_limits_params + markets_params\n",
    "        random.shuffle(orders)\n",
    "        \n",
    "        result.append(orders)\n",
    "        \n",
    "    return result"
   ]
  },
  {
   "cell_type": "code",
   "execution_count": 3,
   "id": "3a672864",
   "metadata": {},
   "outputs": [],
   "source": [
    "def simulate(orders: list, speed: float):\n",
    "    ob = lob.Orderbook('Simulation')\n",
    "    ob.start()\n",
    "\n",
    "    for o in orders:\n",
    "        ob.process_many(o)\n",
    "        ob.render()\n",
    "        time.sleep(speed)\n",
    "        clear_output(wait=True)\n",
    "        \n",
    "    ob.stop()"
   ]
  },
  {
   "cell_type": "code",
   "execution_count": 4,
   "id": "e2f638cd",
   "metadata": {},
   "outputs": [],
   "source": [
    "midprice = stats.uniform.rvs(0.1, 1000)\n",
    "orders = generate_orders(1000, midprice)"
   ]
  },
  {
   "cell_type": "code",
   "execution_count": 5,
   "id": "561b31ef",
   "metadata": {},
   "outputs": [
    {
     "name": "stdout",
     "output_type": "stream",
     "text": [
      "   [ORDER-BOOK Simulation]\n",
      "\n",
      "\u001b[31m   ...(899 more asks)\n",
      " - 861.16 | 4544 | 233951.43 | 201469613.4588\n",
      " - 861.15 | 4530 | 233119.70 | 200751029.6550\n",
      " - 861.14 | 4738 | 239813.78 | 206513238.5092\n",
      " - 861.13 | 4684 | 241234.01 | 207733843.0313\n",
      " - 861.12 | 4666 | 241042.01 | 207566095.6512\n",
      " - 861.11 | 4725 | 243514.84 | 209693063.8724\n",
      " - 861.10 | 812 | 40278.06 | 34683437.4660\n",
      " - 861.09 | 029 | 01522.60 | 1311095.6340\n",
      " - 861.08 | 002 | 00071.20 | 61308.8960\n",
      " - 861.07 | 002 | 00141.42 | 121772.5194\n",
      "\u001b[0m ~~~~~~~~~~~~~~~~~~~~~~~~~~~~~~~~~~~~~~\n",
      "\u001b[32m - 861.05 | 001 | 00034.33 | 29559.8465\n",
      " - 861.04 | 002 | 00106.83 | 91984.9032\n",
      " - 861.03 | 006 | 00214.56 | 184742.5968\n",
      " - 861.02 | 002 | 00042.96 | 36989.4192\n",
      " - 861.01 | 013 | 00430.38 | 370561.4838\n",
      " - 861.00 | 4513 | 227967.57 | 196280077.7700\n",
      " - 860.99 | 4855 | 245229.83 | 211140431.3317\n",
      " - 860.98 | 4789 | 240131.98 | 206748832.1404\n",
      " - 860.97 | 4787 | 244269.32 | 210308556.4404\n",
      " - 860.96 | 4679 | 236946.46 | 204001424.2016\n",
      "   ...(895 more bids)\n",
      "\u001b[0m\u001b[34m\n",
      "    spread = 0.02\u001b[0m\u001b[34m, midprice = 861.060\u001b[0m\n"
     ]
    }
   ],
   "source": [
    "simulate(orders, 0.1)"
   ]
  }
 ],
 "metadata": {
  "kernelspec": {
   "display_name": "venv",
   "language": "python",
   "name": "venv"
  },
  "language_info": {
   "codemirror_mode": {
    "name": "ipython",
    "version": 3
   },
   "file_extension": ".py",
   "mimetype": "text/x-python",
   "name": "python",
   "nbconvert_exporter": "python",
   "pygments_lexer": "ipython3",
   "version": "3.12.3"
  }
 },
 "nbformat": 4,
 "nbformat_minor": 5
}
