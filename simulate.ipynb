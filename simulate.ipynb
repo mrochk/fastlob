{
 "cells": [
  {
   "cell_type": "code",
   "execution_count": 1,
   "id": "eadfbd02",
   "metadata": {},
   "outputs": [],
   "source": [
    "from scipy import stats\n",
    "import random\n",
    "import time\n",
    "import matplotlib.pyplot as plt\n",
    "import pylob as lob\n",
    "from IPython.display import clear_output"
   ]
  },
  {
   "cell_type": "code",
   "execution_count": 2,
   "id": "68e566bb",
   "metadata": {},
   "outputs": [],
   "source": [
    "def generate_orders(n: int):\n",
    "    result = list()\n",
    "    \n",
    "    for _ in range(n):\n",
    "    \n",
    "        midprice = 110_000\n",
    "    \n",
    "        n_ask_limits = stats.poisson.rvs(1000)\n",
    "        n_bid_limits = stats.poisson.rvs(1000)\n",
    "    \n",
    "        ask_limits_price = stats.expon.rvs(loc=midprice, scale=1, size=n_ask_limits)\n",
    "        bid_limits_price = -stats.expon.rvs(loc=midprice, scale=1, size=n_bid_limits) + 2*midprice\n",
    "    \n",
    "        ask_limits_quantities = stats.uniform.rvs(loc=1, scale=100, size=n_ask_limits)\n",
    "        bid_limits_quantities = stats.uniform.rvs(loc=1, scale=100, size=n_bid_limits)\n",
    "    \n",
    "        ask_limits_params = [lob.OrderParams(lob.OrderSide.ASK, p, q) for (p, q) in zip(ask_limits_price, ask_limits_quantities)]\n",
    "        bid_limits_params = [lob.OrderParams(lob.OrderSide.BID, p, q) for (p, q) in zip(bid_limits_price, bid_limits_quantities)]\n",
    "    \n",
    "        n_markets = stats.poisson.rvs(100)\n",
    "    \n",
    "        markets_price = stats.norm.rvs(loc=midprice, scale=2, size=n_markets)\n",
    "        markets_quantities = stats.uniform.rvs(loc=1, scale=100, size=n_markets)\n",
    "        markets_bid_or_ask = [random.choice((lob.OrderSide.BID, lob.OrderSide.ASK)) for _ in range(n_markets)]\n",
    "    \n",
    "        markets_params = [lob.OrderParams(s, p, q) for (s, p, q) in zip(markets_bid_or_ask, markets_price, markets_quantities)]\n",
    "    \n",
    "        orders = ask_limits_params + bid_limits_params + markets_params\n",
    "        random.shuffle(orders)\n",
    "        \n",
    "        result.append(orders)\n",
    "        \n",
    "    return result"
   ]
  },
  {
   "cell_type": "code",
   "execution_count": 3,
   "id": "3a672864",
   "metadata": {},
   "outputs": [],
   "source": [
    "def simulate(orders):\n",
    "    ob = lob.OrderBook('Simulation')\n",
    "\n",
    "    for o in orders:\n",
    "        ob.process_many(o)\n",
    "        print(ob.view())\n",
    "        time.sleep(0.7)\n",
    "        clear_output(wait=True)"
   ]
  },
  {
   "cell_type": "code",
   "execution_count": 4,
   "id": "561b31ef",
   "metadata": {},
   "outputs": [
    {
     "name": "stdout",
     "output_type": "stream",
     "text": [
      "   [ORDER-BOOK Simulation]\n",
      "\n",
      "\u001b[31m   ...(505 more asks)\n",
      " - 110000.10 | 074 | 03866.14 | 425275786.6140\n",
      " - 110000.09 | 080 | 04182.46 | 460070976.4214\n",
      " - 110000.08 | 081 | 04230.35 | 465338838.4280\n",
      " - 110000.07 | 098 | 04565.04 | 502154719.5528\n",
      " - 110000.06 | 089 | 04587.21 | 504593375.2326\n",
      " - 110000.05 | 107 | 05538.45 | 609229776.9225\n",
      " - 110000.04 | 088 | 04306.09 | 473670072.2436\n",
      " - 110000.03 | 064 | 03437.46 | 378120703.1238\n",
      " - 110000.02 | 010 | 00509.31 | 56024110.1862\n",
      " - 110000.00 | 001 | 00029.07 | 3197700.0000\n",
      "\u001b[0m ~~~~~~~~~~~~~~~~~~~~~~~~~~~~~~~~~~~~~~~~~~~~\n",
      "\u001b[32m - 109999.98 | 008 | 00441.98 | 48617791.1604\n",
      " - 109999.97 | 054 | 02658.46 | 292430520.2462\n",
      " - 109999.96 | 078 | 03368.25 | 370507365.2700\n",
      " - 109999.95 | 084 | 04612.49 | 507373669.3755\n",
      " - 109999.94 | 087 | 04262.61 | 468886844.2434\n",
      " - 109999.93 | 097 | 04866.81 | 535348759.3233\n",
      " - 109999.92 | 100 | 05300.21 | 583022675.9832\n",
      " - 109999.91 | 092 | 04448.10 | 489290599.6710\n",
      " - 109999.90 | 091 | 04639.59 | 510354436.0410\n",
      " - 109999.89 | 070 | 03308.17 | 363898336.1013\n",
      "   ...(496 more bids)\n",
      "\u001b[0m\u001b[34m\n",
      "    Spread = 0.02\u001b[0m\u001b[34m, Mid-price = 109999.990\u001b[0m\n"
     ]
    }
   ],
   "source": [
    "orders = generate_orders(10)\n",
    "simulate(orders)"
   ]
  }
 ],
 "metadata": {
  "kernelspec": {
   "display_name": "venv",
   "language": "python",
   "name": "venv"
  },
  "language_info": {
   "codemirror_mode": {
    "name": "ipython",
    "version": 3
   },
   "file_extension": ".py",
   "mimetype": "text/x-python",
   "name": "python",
   "nbconvert_exporter": "python",
   "pygments_lexer": "ipython3",
   "version": "3.12.3"
  }
 },
 "nbformat": 4,
 "nbformat_minor": 5
}
